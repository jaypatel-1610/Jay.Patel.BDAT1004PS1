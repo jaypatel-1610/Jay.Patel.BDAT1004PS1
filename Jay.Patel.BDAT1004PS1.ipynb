{
 "cells": [
  {
   "cell_type": "code",
   "execution_count": 1,
   "id": "8bc6509f-16c9-489a-9298-055a73e3e14b",
   "metadata": {},
   "outputs": [],
   "source": [
    "import math"
   ]
  },
  {
   "cell_type": "markdown",
   "id": "1d8b1b1a-f39a-4463-b48d-6bc8316dcc0d",
   "metadata": {},
   "source": [
    "<h3><b>Question 1</b><br>\n",
    "What data type is each of the following (evaluate where necessary)?<h3>"
   ]
  },
  {
   "cell_type": "code",
   "execution_count": 2,
   "id": "2f0da881-6ac5-436c-a336-9a72b546cd5f",
   "metadata": {},
   "outputs": [
    {
     "name": "stdout",
     "output_type": "stream",
     "text": [
      "<class 'int'>\n",
      "<class 'float'>\n",
      "<class 'bool'>\n",
      "<class 'str'>\n",
      "<class 'int'>\n",
      "<class 'str'>\n",
      "<class 'str'>\n",
      "<class 'float'>\n",
      "<class 'int'>\n",
      "<class 'set'>\n",
      "<class 'bool'>\n",
      "<class 'float'>\n"
     ]
    }
   ],
   "source": [
    "print(type(5))\n",
    "print(type(5.0))\n",
    "print(type(5 > 1))\n",
    "print(type('5'))\n",
    "print(type(5 * 2)) \n",
    "print(type('5' * 2 ))\n",
    "print(type('5' + '2'))\n",
    "print(type(5 / 2))\n",
    "print(type(5 % 2))\n",
    "print(type({5, 2, 1}))\n",
    "print(type(5 == 3))\n",
    "print(type(3.14))"
   ]
  },
  {
   "cell_type": "markdown",
   "id": "e19c5439-1c48-45c5-be87-08ccaa122190",
   "metadata": {},
   "source": [
    "### TABLE WITH DATA TYPES : \n",
    "\n",
    "|    data      |                    data type                                                                |\n",
    "|   :------    |                    ---------:                                                               |      \n",
    "|        5     |                    integer                                                                  |                                          |      5.0     |                    float                                                                    |                                          |    5 > 1     |                    boolean                                                                  |        \n",
    "|       '5'    |                    string                                                                   |\n",
    "|  5 * 2 => 10  |                    integer                                                                  |\n",
    "|'5 '* 2 => '55'|                    string                                                                   |\n",
    "|   '5' + '2'=> '52'   |                    string                                                                   |\n",
    "|     5 / 2  => 2.5 |                    float                                                                    |\n",
    "|     5 % 2  => 1  |                    integer                                                                  |\n",
    "|  {5, 2, 1}   |                    set                                                                      |\n",
    "|   5 == 3  => false   |                    bool                                                                     |\n",
    "|pi(the number) => 3.14 |                    float                                                                    ||\n"
   ]
  },
  {
   "cell_type": "markdown",
   "id": "c863a262-53c6-43ee-bb95-bc1cc4ba450d",
   "metadata": {},
   "source": [
    "<h3><b>Question 2</b><br>\n",
    "Write (and evaluate) python expressions that answer these questions:<h3>"
   ]
  },
  {
   "cell_type": "markdown",
   "id": "634a16af-9777-4495-9487-ec32a8a60aef",
   "metadata": {},
   "source": [
    "<b>a. How many letters are there in 'Supercalifragilisticexpialidocious'?<b>\n"
   ]
  },
  {
   "cell_type": "code",
   "execution_count": 3,
   "id": "ca92751d-ce25-47d6-872a-6c2133a049a2",
   "metadata": {},
   "outputs": [
    {
     "name": "stdout",
     "output_type": "stream",
     "text": [
      "Supercalifragilisticexpialidocious have 34 letters.\n"
     ]
    }
   ],
   "source": [
    "word = \"Supercalifragilisticexpialidocious\"\n",
    "\n",
    "#len function is built in function to find length \n",
    "length_word = len(word)\n",
    "print(f\"{word} have {length_word} letters.\")"
   ]
  },
  {
   "cell_type": "markdown",
   "id": "adf2d633-bdcb-4ad4-9d06-6715225e39dc",
   "metadata": {},
   "source": [
    "<b>b. Does 'Supercalifragilisticexpialidocious' contain 'ice' as a substring?<b>"
   ]
  },
  {
   "cell_type": "code",
   "execution_count": 4,
   "id": "be369efe-6fba-48a6-a6af-cc9fbf40e892",
   "metadata": {},
   "outputs": [
    {
     "name": "stdout",
     "output_type": "stream",
     "text": [
      "Yes ! Supercalifragilisticexpialidocious contains ice as substring. \n"
     ]
    }
   ],
   "source": [
    "word = \"Supercalifragilisticexpialidocious\"\n",
    "substring = \"ice\"\n",
    "if substring in word :\n",
    "    print(f\"Yes ! {word} contains {substring} as substring. \")\n",
    "else:\n",
    "    print(f\"No ! {word} does not contains {substring} as substring. \")"
   ]
  },
  {
   "cell_type": "markdown",
   "id": "904d4d8f-afd9-40be-8dd5-3ca358e44930",
   "metadata": {},
   "source": [
    "<b>c. Which of the following words is the longest: \n",
    "Supercalifragilisticexpialidocious, Honorificabilitudinitatibus, or \n",
    "Bababadalgharaghtakamminarronnkonn? <b>"
   ]
  },
  {
   "cell_type": "code",
   "execution_count": 5,
   "id": "ed286f6b-9a1f-432c-aa3f-92dac0b92068",
   "metadata": {},
   "outputs": [
    {
     "name": "stdout",
     "output_type": "stream",
     "text": [
      "Bababadalgharaghtakamminarronnkonnis longest among three.\n"
     ]
    }
   ],
   "source": [
    "word_one = \"Supercalifragilisticexpialidociou\"\n",
    "word_two = \"Honorificabilitudinitatibus\"\n",
    "word_three = \"Bababadalgharaghtakamminarronnkonn\"\n",
    "\n",
    "if len(word_one) > len(word_two):\n",
    "    if len(word_three) > len(word_one):\n",
    "        print(word_three + \"is longest among three.\")     \n",
    "    else:\n",
    "        print(word_one + \"is longest among three.\")\n",
    "        \n",
    "\n",
    "else:\n",
    "    if len(word_three) > len(word_two):\n",
    "        print(word_three + \"is longest among three.\")     \n",
    "    else:\n",
    "        print(word_two + \"is longest among three.\")\n",
    "    "
   ]
  },
  {
   "cell_type": "markdown",
   "id": "7adb2014-b931-4fce-8834-f173cd1760e3",
   "metadata": {},
   "source": [
    "<b>d.Which composer comes first in the dictionary: 'Berlioz', 'Borodin', 'Brian', \n",
    "'Bartok', 'Bellini', 'Buxtehude', 'Bernstein'. Which one comes last?<b>"
   ]
  },
  {
   "cell_type": "code",
   "execution_count": 6,
   "id": "451882e6-8535-486d-bdb6-cbab95e07e90",
   "metadata": {},
   "outputs": [
    {
     "name": "stdout",
     "output_type": "stream",
     "text": [
      "Word Bartok will come first in the dictionary\n",
      "word Buxtehude will come last in the dictionary\n"
     ]
    }
   ],
   "source": [
    "dict = ['Berlioz', 'Borodin', 'Brian', \n",
    "'Bartok', 'Bellini', 'Buxtehude', 'Bernstein']\n",
    "\n",
    "dict.sort()\n",
    "print(\"Word \" + dict[0] + \" will come first in the dictionary\")\n",
    "print(\"word \"+ dict[-1] + \" will come last in the dictionary\")"
   ]
  },
  {
   "cell_type": "markdown",
   "id": "486ff1b2-5b82-4cf1-817d-a96025ea1ca5",
   "metadata": {},
   "source": [
    "<h3><b>Question 3</b><br>\n",
    "Implement function triangleArea(a,b,c) that takes as input the lengths of the 3\n",
    "sides of a triangle and returns the area of the triangle. By Heron's formula, the area \n",
    "of a triangle with side lengths a, b, and c is\n",
    "s(s - a)(s -b)(s -c)\n",
    ", where \n",
    "s = (a+b+c)/2. <h3>"
   ]
  },
  {
   "cell_type": "code",
   "execution_count": 9,
   "id": "22cfe080-1147-45e4-97b3-e2c7d5b5b953",
   "metadata": {},
   "outputs": [
    {
     "name": "stdout",
     "output_type": "stream",
     "text": [
      "Triangle area : 1.7320508075688772\n"
     ]
    }
   ],
   "source": [
    "import math\n",
    "\n",
    "def triangleArea(a , b , c) :\n",
    "    #this function will return area of the triangle\n",
    "    s = (a + b + c) / 2\n",
    "    area_square = s * (s - a) * (s - b) * (s - c)\n",
    "    area = math.sqrt(area_square)\n",
    "    return area\n",
    "\n",
    "area = triangleArea(2,2,2)\n",
    "print(\"Triangle area : \" + str(area))"
   ]
  },
  {
   "cell_type": "markdown",
   "id": "2a8ff73f-c064-4a26-923f-8255e648401e",
   "metadata": {},
   "source": [
    "<h3><b>Question 4</b><br>\n",
    "Write a program in python to separate odd and even integers in separate arrays. Go to the editor \n",
    "Test Data : <br>\n",
    "Input the number of elements to be stored in the array :5 <br>\n",
    "Input 5 elements in the array : <br>\n",
    "element - 0 : 25 <br>\n",
    "element - 1 : 47 <br>\n",
    "element - 2 : 42 <br>\n",
    "element - 3 : 56 <br>\n",
    "element - 4 : 32 <br><h3>"
   ]
  },
  {
   "cell_type": "code",
   "execution_count": 11,
   "id": "1ea6ff53-04a6-41e6-99a3-7b9943f15493",
   "metadata": {},
   "outputs": [
    {
     "name": "stdin",
     "output_type": "stream",
     "text": [
      "Input the number of elements to be stored in the array:  2\n",
      " 21\n",
      " 33\n"
     ]
    },
    {
     "name": "stdout",
     "output_type": "stream",
     "text": [
      "The Even elements are :\n",
      "[]\n",
      "The odd elements are :\n",
      "[21, 33]\n"
     ]
    }
   ],
   "source": [
    " array_length = int(input(\"Input the number of elements to be stored in the array: \"))\n",
    "elements = []\n",
    "odd_elements = []\n",
    "even_elements = []\n",
    "\n",
    "for i in range(0 , array_length):\n",
    "    elements.append(int(input()))\n",
    "\n",
    "for element in elements: \n",
    "    if(element % 2 != 0) :               # this will check if the number is odd or not : if remainder is 1 than it's  odd else it is even\n",
    "        odd_elements.append(element)\n",
    "    else:\n",
    "        even_elements.append(element)\n",
    "\n",
    "print(\"The Even elements are :\")\n",
    "print(even_elements)\n",
    "print(\"The odd elements are :\")\n",
    "print(odd_elements)"
   ]
  },
  {
   "cell_type": "markdown",
   "id": "bad9c1fc-cc61-4407-b1af-23a474ff2ea9",
   "metadata": {},
   "source": [
    "<h2><b>Question 5</b><br>"
   ]
  },
  {
   "cell_type": "markdown",
   "id": "4c923393-6261-4c83-9f90-134a9efa7d2a",
   "metadata": {},
   "source": [
    "<b>A.Write a function inside(x,y,x1,y1,x2,y2) that returns True or False \n",
    "depending on whether the point (x,y) lies in the rectangle with lower left \n",
    "corner (x1,y1) and upper right corner (x2,y2). <b>"
   ]
  },
  {
   "cell_type": "code",
   "execution_count": 12,
   "id": "e8fcfad4-8909-47a4-bb25-ed98b6452381",
   "metadata": {},
   "outputs": [
    {
     "name": "stdout",
     "output_type": "stream",
     "text": [
      "False\n"
     ]
    }
   ],
   "source": [
    "def inside(x,y,x1,y1,x2,y2):\n",
    "    if x >= x1 and x <= x2 and y >= y1  and y <= y2:\n",
    "       return True\n",
    "    else:\n",
    "       return False\n",
    "    \n",
    "\n",
    "cordinates = inside(-1,-1,0,0,2,3)\n",
    "\n",
    "print(cordinates)"
   ]
  },
  {
   "cell_type": "markdown",
   "id": "5dbe255f-6243-4925-9687-a72fa930ddf1",
   "metadata": {},
   "source": [
    "<b>B .Use function inside() from part a. to write an expression that tests whether \n",
    "the point (1,1) lies in both of the following rectangles: one with lower left \n",
    "corner (0.3, 0.5) and upper right corner (1.1, 0.7) and the other with lower \n",
    "left corner (0.5, 0.2) and upper right corner (1.1, 2). <b>"
   ]
  },
  {
   "cell_type": "code",
   "execution_count": 13,
   "id": "673d1c8b-64aa-43d7-a658-02d72cbb172e",
   "metadata": {},
   "outputs": [
    {
     "name": "stdout",
     "output_type": "stream",
     "text": [
      "False\n"
     ]
    }
   ],
   "source": [
    "def inside(x1, y1, x2, y2, point_x, point_y):\n",
    "    return x1 <= point_x <= x2 and y1 <= point_y <= y2\n",
    "\n",
    "\n",
    "lower_left_corner_rect1 = (0.3, 0.5)\n",
    "upper_right_corner_rect1 = (1.1, 0.7)\n",
    "\n",
    "lower_left_corner_rect2 = (0.5, 0.2)\n",
    "upper_right_corner_rect2 = (1.1, 2)\n",
    "\n",
    "cordinates = (1, 1)\n",
    "\n",
    "rect_one= inside(lower_left_corner_rect1[0], lower_left_corner_rect1[1], upper_right_corner_rect1[0], upper_right_corner_rect1 [1], cordinates[0], cordinates[1])\n",
    "rect_two = inside(lower_left_corner_rect2[0], lower_left_corner_rect2[1], upper_right_corner_rect2[0], upper_right_corner_rect2[1], cordinates[0], cordinates[1])\n",
    "\n",
    "if rect_one and rect_two:\n",
    "    print(\"True\")\n",
    "else:\n",
    "    print(\"False\")"
   ]
  },
  {
   "cell_type": "markdown",
   "id": "0da569fc-a223-43c5-8fe3-696dc1ca70cd",
   "metadata": {},
   "source": [
    "<h3><b>Question 6</b><br>\n",
    "You can turn a word into pig-Latin using the following two rules (simplified):<br>\n",
    "• If the word starts with a consonant, move that letter to the end and append \n",
    "'ay'. For example, 'happy' becomes 'appyhay' and 'pencil' becomes 'encilpay'.<br>\n",
    "• If the word starts with a vowel, simply append 'way' to the end of the word. \n",
    "For example, 'enter' becomes 'enterway' and 'other' becomes 'otherway' .For \n",
    "our purposes, there are 5 vowels: a, e, i, o, u (so we count y as a consonant).<br>\n",
    "Write a function pig() that takes a word (i.e., a string) as input and returns its pig-Latin form. Your function should still work if the input word contains upper case \n",
    "characters. Your output should always be lower case however<h3>"
   ]
  },
  {
   "cell_type": "code",
   "execution_count": 14,
   "id": "13c5be34-599f-4c3a-bd3a-11a7e54c0b4f",
   "metadata": {},
   "outputs": [
    {
     "name": "stdout",
     "output_type": "stream",
     "text": [
      "enterway\n",
      "appyhay\n"
     ]
    }
   ],
   "source": [
    "def pig(word):\n",
    "    vowels_list = ['a','e' ,'i' ,'o' , 'u' , 'A' ,'E' ,'I' ,'O' ,'U']\n",
    "    if word[0] in vowels_list : \n",
    "        latin_wordform = word + \"way\"\n",
    "    else:\n",
    "        latin_wordform = word[1:] + word[0] + \"ay\"\n",
    "\n",
    "    print(latin_wordform.lower())\n",
    "\n",
    "pig('enter')\n",
    "pig('Happy')"
   ]
  },
  {
   "cell_type": "markdown",
   "id": "63016c7d-465b-46dd-9df5-45abec333506",
   "metadata": {},
   "source": [
    "<h3><b>Question 7</b><br>\n",
    "File bloodtype1.txt records blood-types of patients (A, B, AB, O or OO) at a clinic. \n",
    "Write a function bldcount() that reads the file with name name and reports (i.e., \n",
    "prints) how many patients there are in each bloodtype.</h3>"
   ]
  },
  {
   "cell_type": "code",
   "execution_count": 15,
   "id": "b6db3b01-2ad9-44ab-9eab-a6d6164dd2e8",
   "metadata": {},
   "outputs": [
    {
     "name": "stdout",
     "output_type": "stream",
     "text": [
      "There are 15 patients of blood type A\n",
      "There are 1 patients of blood type B\n",
      "There are 13 patients of blood type AB\n",
      "There are 15 patients of blood type O\n",
      "There are 0 patients of blood type OO\n"
     ]
    }
   ],
   "source": [
    "def bldcount(file_name):\n",
    "    \n",
    "    with open(file_name, 'r') as file:\n",
    "        AB_COUNTER = 0\n",
    "        B_COUNTER = 0\n",
    "        O_COUNTER = 0\n",
    "        A_COUNTER = 0\n",
    "        OO_COUNTER = 0\n",
    "        for line in file:\n",
    "            for bloodgroup in line.split():\n",
    "                if bloodgroup == \"AB\":\n",
    "                    AB_COUNTER += 1\n",
    "                if bloodgroup == \"B\":\n",
    "                    B_COUNTER += 1\n",
    "                if bloodgroup == \"O\": \n",
    "                    O_COUNTER += 1\n",
    "                if bloodgroup == \"A\":\n",
    "                    A_COUNTER += 1\n",
    "                if bloodgroup == \"OO\":\n",
    "                    OO_COUNTER += 1\n",
    "                    \n",
    "    \n",
    "        print(f\"There are {A_COUNTER} patients of blood type A\")\n",
    "        print(f\"There are {B_COUNTER} patients of blood type B\")\n",
    "        print(f\"There are {AB_COUNTER} patients of blood type AB\")\n",
    "        print(f\"There are {O_COUNTER} patients of blood type O\")\n",
    "        print(f\"There are {OO_COUNTER} patients of blood type OO\")\n",
    "        \n",
    "        \n",
    "      \n",
    "        file.close()\n",
    "            \n",
    "file_name = \"bloodtype1.txt\"\n",
    "bldcount(file_name)"
   ]
  },
  {
   "cell_type": "markdown",
   "id": "721ebcd3-b61f-42ff-a2b2-dfb4cc04105f",
   "metadata": {},
   "source": [
    "<h3><b>Question 8</b><br>\n",
    "Write a function curconv() that takes as input:<br>\n",
    "1. a currency represented using a string (e.g., 'JPY' for the Japanese Yen or\n",
    "'EUR' for the Euro)<br>\n",
    "2. an amount<br>\n",
    "and then converts and returns the amount in US dollars.<h3>"
   ]
  },
  {
   "cell_type": "code",
   "execution_count": 16,
   "id": "60ae8dbe-7aa9-4df4-a3d7-74bfa44c882c",
   "metadata": {},
   "outputs": [
    {
     "name": "stdout",
     "output_type": "stream",
     "text": [
      "122.96544\n",
      "1.241401\n"
     ]
    }
   ],
   "source": [
    "def curconv(currency , amount):\n",
    "    file_name = \"currencies.txt\"\n",
    "    conversion_rates_map = {}\n",
    "    with open(file_name, 'r') as file:\n",
    "        \n",
    "        for line in file:\n",
    "            data = line.split()\n",
    "            conversion_rates_map[data[0]] = float(data[1])\n",
    "            \n",
    "            \n",
    "\n",
    "        currency.upper()\n",
    "        if currency in conversion_rates_map :\n",
    "            print(amount * conversion_rates_map[currency])\n",
    "        else:\n",
    "            print(\"Currency not found\")\n",
    "            \n",
    "        file.close()\n",
    "        \n",
    "            \n",
    "curconv('EUR', 100)\n",
    "curconv('JPY', 100)\n",
    "\n"
   ]
  },
  {
   "cell_type": "markdown",
   "id": "4f4718b0-75c3-4690-a568-f4107bef6c00",
   "metadata": {},
   "source": [
    "<h3><b>Question 9</b><br>\n",
    "Each of the following will cause an exception (an error). Identify what type of \n",
    "exception each will cause<h3>"
   ]
  },
  {
   "cell_type": "markdown",
   "id": "9e44ef1f-5790-4851-abe9-22d580a047a3",
   "metadata": {},
   "source": [
    "<b>Trying to add incompatible variables, as in \n",
    "adding 6 + ‘a’<b>"
   ]
  },
  {
   "cell_type": "code",
   "execution_count": 17,
   "id": "a2ebefe9-312b-418d-b7aa-f8b87ae73c6a",
   "metadata": {},
   "outputs": [
    {
     "name": "stdout",
     "output_type": "stream",
     "text": [
      "unsupported operand type(s) for +: 'int' and 'str'\n"
     ]
    }
   ],
   "source": [
    "try :\n",
    "    6 + 'a'\n",
    "except Exception as e:\n",
    "    print(e)"
   ]
  },
  {
   "cell_type": "markdown",
   "id": "6d051473-d9cf-4bd2-91cf-aa1a809af081",
   "metadata": {},
   "source": [
    "<b>Referring to the 12th item of a list that has only 10 \n",
    "items<b>"
   ]
  },
  {
   "cell_type": "code",
   "execution_count": 18,
   "id": "80cc05ec-ffd4-4f25-97cb-7df8a53aeda8",
   "metadata": {},
   "outputs": [
    {
     "name": "stdout",
     "output_type": "stream",
     "text": [
      "list index out of range\n"
     ]
    }
   ],
   "source": [
    "list = [1 , 2 , 3 , 4 , 5, 6 , 7, 8 , 9 , 10]\n",
    "\n",
    "try:\n",
    "    print(list[11])\n",
    "except Exception as e:\n",
    "    print(e)"
   ]
  },
  {
   "cell_type": "markdown",
   "id": "68cedcfb-2aea-459a-b101-5a4995842635",
   "metadata": {},
   "source": [
    "<b>Using a value that is out of range for a function’s \n",
    "input, such as calling math.sqrt(-1.0)<b>"
   ]
  },
  {
   "cell_type": "code",
   "execution_count": 19,
   "id": "3ad775ea-d97d-4bc6-8dd0-496c421ca109",
   "metadata": {},
   "outputs": [
    {
     "name": "stdout",
     "output_type": "stream",
     "text": [
      "math.sqrt() takes exactly one argument (2 given)\n"
     ]
    }
   ],
   "source": [
    "import math\n",
    "try:\n",
    "    print(math.sqrt(-1  , 0))\n",
    "except Exception as e:\n",
    "    print(e)"
   ]
  },
  {
   "cell_type": "markdown",
   "id": "2f7147a5-da3d-4153-9a94-2caff7221366",
   "metadata": {},
   "source": [
    "<b>Using an undeclared variable, such as print(x)\n",
    "when x has not been defined <b>"
   ]
  },
  {
   "cell_type": "code",
   "execution_count": 20,
   "id": "2f4eb3ba-7ea1-45f7-9d88-8fa575e46502",
   "metadata": {},
   "outputs": [
    {
     "name": "stdout",
     "output_type": "stream",
     "text": [
      "name 'b' is not defined\n"
     ]
    }
   ],
   "source": [
    "try:   \n",
    "    print(b)\n",
    "except Exception as e:\n",
    "    print(e)"
   ]
  },
  {
   "cell_type": "markdown",
   "id": "9fbb4bca-79cb-4d05-8e13-1bad7f804284",
   "metadata": {},
   "source": [
    "<b>Trying to open a file that does not exist, such as \n",
    "mistyping the file name or looking in the wrong \n",
    "directory. <b>\n"
   ]
  },
  {
   "cell_type": "code",
   "execution_count": 21,
   "id": "e444824c-5470-4eea-afdb-3f4f91d0c1d8",
   "metadata": {},
   "outputs": [
    {
     "name": "stdout",
     "output_type": "stream",
     "text": [
      "[Errno 2] No such file or directory: 'blloodtype1.txt'\n"
     ]
    }
   ],
   "source": [
    "file_path = \"blloodtype1.txt\"\n",
    "try:   \n",
    "    file = open(file_path)\n",
    "except Exception as e:\n",
    "    print(e)"
   ]
  },
  {
   "cell_type": "markdown",
   "id": "9effe59a-83da-417c-bc75-3f5d0dd7e404",
   "metadata": {},
   "source": [
    "| Question   | Error  | \n",
    "| :----     | -----------:                |\n",
    "|Trying to add incompatible variables, as in adding 6 + ‘a’| unsupported operand type(s) for +: 'int' and 'str'|\n",
    "|Referring to the 12th item of a list that has only 10 items| list index out of range\n",
    "|Using a value that is out of range for a function’s input, such as calling math.sqrt(-1.0) | math.sqrt() takes exactly one argument (2 given)|\n",
    "|Using an undeclared variable, such as print(x) when x has not been defined | name 'b' is not defined |\n",
    "|Trying to open a file that does not exist, such as mistyping the file name or looking in the wrong directory.| [Errno 2] No such file or directory: 'blloodtype1.txt'|\n",
    "\n"
   ]
  },
  {
   "cell_type": "markdown",
   "id": "08bb9ea2-ff7d-4287-af15-010ea7afc49f",
   "metadata": {},
   "source": [
    "<h3><b>Question 10</b><br>\n",
    "Encryption is the process of hiding the meaning of a text by substituting letters in the \n",
    "message with other letters, according to some system. If the process is successful, no \n",
    "one but the intended recipient can understand the encrypted message. Cryptanalysis\n",
    "refers to attempts to undo the encryption, even if some details of the encryption are \n",
    "unknown (for example, if an encrypted message has been intercepted). The first step \n",
    "of cryptanalysis is often to build up a table of letter frequencies in the encrypted text. \n",
    "Assume that the string letters is already defined as \n",
    "'abcdefghijklmnopqrstuvwxyz'. Write a function called frequencies()\n",
    "that takes a string as its only parameter, and returns a list of integers, showing the \n",
    "number of times each character appears in the text. Your function may ignore any \n",
    "characters that are not in letters.\n",
    "<h3>"
   ]
  },
  {
   "cell_type": "code",
   "execution_count": 10,
   "id": "4cd82ffe-6871-4a6f-b197-51eeb449d5ab",
   "metadata": {},
   "outputs": [
    {
     "name": "stdin",
     "output_type": "stream",
     "text": [
      "Enter the data you want to encrypt:  king\n"
     ]
    },
    {
     "name": "stdout",
     "output_type": "stream",
     "text": [
      "[0, 0, 0, 0, 0, 0, 1, 0, 1, 0, 1, 0, 0, 1, 0, 0, 0, 0, 0, 0, 0, 0, 0, 0, 0, 0]\n"
     ]
    }
   ],
   "source": [
    "def frequencies(data):\n",
    "     alphabates = \"abcdefghijklmnopqrstuvwxyz\"\n",
    "     \n",
    "     count_list = [0] * 26  # this will product string with 26 items (all are 0's)\n",
    " \n",
    "     for ch in data:               # this will take each characters from the data\n",
    "        if ch in alphabates:         # this will check if character is available  in the string alphabtes or not\n",
    "             char_index = alphabates.index(ch)  # this statement will set char_index whatever index of the character in the alphabataes strinh\n",
    "             count_list[char_index] += 1  # this will increase the count at each index of the count list\n",
    "    \n",
    "     print(count_list)\n",
    "         \n",
    "data = input(\"Enter the data you want to encrypt: \")\n",
    "frequencies(data)"
   ]
  },
  {
   "cell_type": "markdown",
   "id": "bf151a5a-7cf0-4679-8509-d0deeecc2c3c",
   "metadata": {},
   "source": [
    "## References"
   ]
  },
  {
   "cell_type": "markdown",
   "id": "66ed41ca-39fd-471d-b88a-d344c94a5607",
   "metadata": {},
   "source": [
    "Exeption or Error handling (Question 9):\n",
    "https://stackoverflow.com/questions/1483429/how-do-i-print-an-exception-in-python"
   ]
  },
  {
   "cell_type": "code",
   "execution_count": null,
   "id": "aa682de9-4bbf-4d78-b849-8126ffaac282",
   "metadata": {},
   "outputs": [],
   "source": []
  }
 ],
 "metadata": {
  "kernelspec": {
   "display_name": "Python 3 (ipykernel)",
   "language": "python",
   "name": "python3"
  },
  "language_info": {
   "codemirror_mode": {
    "name": "ipython",
    "version": 3
   },
   "file_extension": ".py",
   "mimetype": "text/x-python",
   "name": "python",
   "nbconvert_exporter": "python",
   "pygments_lexer": "ipython3",
   "version": "3.12.3"
  }
 },
 "nbformat": 4,
 "nbformat_minor": 5
}
